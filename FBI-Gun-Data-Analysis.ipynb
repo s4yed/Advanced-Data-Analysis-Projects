{
 "cells": [
  {
   "cell_type": "markdown",
   "metadata": {},
   "source": [
    "# Project: FBI Firearm Background Check Data Analysis\n",
    "\n",
    "## Table of Contents\n",
    "<ul>\n",
    "<li><a href=\"#intro\">Introduction</a></li>\n",
    "<li><a href=\"#wrangling\">Data Wrangling</a></li>\n",
    "<li><a href=\"#eda\">Exploratory Analysis</a></li>\n",
    "<li><a href=\"#conclusions\">Conclusions</a></li>\n",
    "</ul>"
   ]
  },
  {
   "cell_type": "markdown",
   "metadata": {},
   "source": [
    "<a id=\"intro\"></a>\n",
    "## Introduction\n",
    "The FBI's [NICS](https://www.fbi.gov/services/cjis/nics) - Nationa Instant Criminal Background Check System - provides data on the number of firearm checks by month, state, and type from November - 1998 to July - 2020. The checks determine whether a buyer is eligible to buy firearms. Before the selling, the FBI ensures that each customer doesn't have a criminal record or ineligible to make a purchase. And our goal here is to analyze, explore, answer some questions, and draw conclusions with visuals about the given data.\n",
    "\n",
    "**Some definitoins:**\n",
    "- **Handgun:** Any firearm which has a short stock and can be held by one hand (pistols).\n",
    "- **Long Gun:** A weapon designed or made to be fired from the shoulder (shotguns or rifles).\n",
    "\n",
    "**Questions that would be able to answer during our analysis:**\n",
    "- Which states have had the highest growth in gun registration and by which year?\n",
    "- By how much all the gun check types is decreased over the last decade?\n",
    "- What is the overall trend of gun purchases?\n",
    "\n",
    "In order to address those question, there are a lot of things to do such as:\n",
    "1. Cleaning the dataset from any incorrect datatypes or null values.\n",
    "2. Calculating some statistics about the variables and look for any relationships in the data.\n",
    "3. Drawing conclusions with some charts and communicating the findings."
   ]
  },
  {
   "cell_type": "code",
   "execution_count": 1,
   "metadata": {
    "tags": []
   },
   "outputs": [],
   "source": [
    "# Import libraries\n",
    "import pandas as pd\n",
    "import matplotlib.pyplot as plt\n",
    "plt.style.use('seaborn')\n",
    "%matplotlib inline"
   ]
  },
  {
   "cell_type": "markdown",
   "metadata": {},
   "source": [
    "<a id=\"wrangling\"></a>\n",
    "## Data Wrangling\n",
    "\n",
    "### Gathering"
   ]
  },
  {
   "cell_type": "code",
   "execution_count": 2,
   "metadata": {},
   "outputs": [],
   "source": [
    "# read data as pandas data frame\n",
    "df_firearm = pd.read_csv('nics-firearm-background-checks.csv')"
   ]
  },
  {
   "cell_type": "code",
   "execution_count": 3,
   "metadata": {},
   "outputs": [
    {
     "data": {
      "text/html": [
       "<div>\n",
       "<style scoped>\n",
       "    .dataframe tbody tr th:only-of-type {\n",
       "        vertical-align: middle;\n",
       "    }\n",
       "\n",
       "    .dataframe tbody tr th {\n",
       "        vertical-align: top;\n",
       "    }\n",
       "\n",
       "    .dataframe thead th {\n",
       "        text-align: right;\n",
       "    }\n",
       "</style>\n",
       "<table border=\"1\" class=\"dataframe\">\n",
       "  <thead>\n",
       "    <tr style=\"text-align: right;\">\n",
       "      <th></th>\n",
       "      <th>month</th>\n",
       "      <th>state</th>\n",
       "      <th>permit</th>\n",
       "      <th>permit_recheck</th>\n",
       "      <th>handgun</th>\n",
       "      <th>long_gun</th>\n",
       "      <th>other</th>\n",
       "      <th>multiple</th>\n",
       "      <th>admin</th>\n",
       "      <th>prepawn_handgun</th>\n",
       "      <th>...</th>\n",
       "      <th>returned_other</th>\n",
       "      <th>rentals_handgun</th>\n",
       "      <th>rentals_long_gun</th>\n",
       "      <th>private_sale_handgun</th>\n",
       "      <th>private_sale_long_gun</th>\n",
       "      <th>private_sale_other</th>\n",
       "      <th>return_to_seller_handgun</th>\n",
       "      <th>return_to_seller_long_gun</th>\n",
       "      <th>return_to_seller_other</th>\n",
       "      <th>totals</th>\n",
       "    </tr>\n",
       "  </thead>\n",
       "  <tbody>\n",
       "    <tr>\n",
       "      <th>14350</th>\n",
       "      <td>1998-11</td>\n",
       "      <td>Virginia</td>\n",
       "      <td>0.0</td>\n",
       "      <td>NaN</td>\n",
       "      <td>14.0</td>\n",
       "      <td>2.0</td>\n",
       "      <td>NaN</td>\n",
       "      <td>8</td>\n",
       "      <td>0.0</td>\n",
       "      <td>NaN</td>\n",
       "      <td>...</td>\n",
       "      <td>NaN</td>\n",
       "      <td>NaN</td>\n",
       "      <td>NaN</td>\n",
       "      <td>NaN</td>\n",
       "      <td>NaN</td>\n",
       "      <td>NaN</td>\n",
       "      <td>NaN</td>\n",
       "      <td>NaN</td>\n",
       "      <td>NaN</td>\n",
       "      <td>24</td>\n",
       "    </tr>\n",
       "    <tr>\n",
       "      <th>14351</th>\n",
       "      <td>1998-11</td>\n",
       "      <td>Washington</td>\n",
       "      <td>1.0</td>\n",
       "      <td>NaN</td>\n",
       "      <td>65.0</td>\n",
       "      <td>286.0</td>\n",
       "      <td>NaN</td>\n",
       "      <td>8</td>\n",
       "      <td>1.0</td>\n",
       "      <td>NaN</td>\n",
       "      <td>...</td>\n",
       "      <td>NaN</td>\n",
       "      <td>NaN</td>\n",
       "      <td>NaN</td>\n",
       "      <td>NaN</td>\n",
       "      <td>NaN</td>\n",
       "      <td>NaN</td>\n",
       "      <td>NaN</td>\n",
       "      <td>NaN</td>\n",
       "      <td>NaN</td>\n",
       "      <td>361</td>\n",
       "    </tr>\n",
       "    <tr>\n",
       "      <th>14352</th>\n",
       "      <td>1998-11</td>\n",
       "      <td>West Virginia</td>\n",
       "      <td>3.0</td>\n",
       "      <td>NaN</td>\n",
       "      <td>149.0</td>\n",
       "      <td>251.0</td>\n",
       "      <td>NaN</td>\n",
       "      <td>5</td>\n",
       "      <td>0.0</td>\n",
       "      <td>NaN</td>\n",
       "      <td>...</td>\n",
       "      <td>NaN</td>\n",
       "      <td>NaN</td>\n",
       "      <td>NaN</td>\n",
       "      <td>NaN</td>\n",
       "      <td>NaN</td>\n",
       "      <td>NaN</td>\n",
       "      <td>NaN</td>\n",
       "      <td>NaN</td>\n",
       "      <td>NaN</td>\n",
       "      <td>408</td>\n",
       "    </tr>\n",
       "    <tr>\n",
       "      <th>14353</th>\n",
       "      <td>1998-11</td>\n",
       "      <td>Wisconsin</td>\n",
       "      <td>0.0</td>\n",
       "      <td>NaN</td>\n",
       "      <td>25.0</td>\n",
       "      <td>214.0</td>\n",
       "      <td>NaN</td>\n",
       "      <td>2</td>\n",
       "      <td>0.0</td>\n",
       "      <td>NaN</td>\n",
       "      <td>...</td>\n",
       "      <td>NaN</td>\n",
       "      <td>NaN</td>\n",
       "      <td>NaN</td>\n",
       "      <td>NaN</td>\n",
       "      <td>NaN</td>\n",
       "      <td>NaN</td>\n",
       "      <td>NaN</td>\n",
       "      <td>NaN</td>\n",
       "      <td>NaN</td>\n",
       "      <td>241</td>\n",
       "    </tr>\n",
       "    <tr>\n",
       "      <th>14354</th>\n",
       "      <td>1998-11</td>\n",
       "      <td>Wyoming</td>\n",
       "      <td>8.0</td>\n",
       "      <td>NaN</td>\n",
       "      <td>45.0</td>\n",
       "      <td>49.0</td>\n",
       "      <td>NaN</td>\n",
       "      <td>5</td>\n",
       "      <td>0.0</td>\n",
       "      <td>NaN</td>\n",
       "      <td>...</td>\n",
       "      <td>NaN</td>\n",
       "      <td>NaN</td>\n",
       "      <td>NaN</td>\n",
       "      <td>NaN</td>\n",
       "      <td>NaN</td>\n",
       "      <td>NaN</td>\n",
       "      <td>NaN</td>\n",
       "      <td>NaN</td>\n",
       "      <td>NaN</td>\n",
       "      <td>107</td>\n",
       "    </tr>\n",
       "  </tbody>\n",
       "</table>\n",
       "<p>5 rows × 27 columns</p>\n",
       "</div>"
      ],
      "text/plain": [
       "         month          state  permit  permit_recheck  handgun  long_gun  \\\n",
       "14350  1998-11       Virginia     0.0             NaN     14.0       2.0   \n",
       "14351  1998-11     Washington     1.0             NaN     65.0     286.0   \n",
       "14352  1998-11  West Virginia     3.0             NaN    149.0     251.0   \n",
       "14353  1998-11      Wisconsin     0.0             NaN     25.0     214.0   \n",
       "14354  1998-11        Wyoming     8.0             NaN     45.0      49.0   \n",
       "\n",
       "       other  multiple  admin  prepawn_handgun  ...  returned_other  \\\n",
       "14350    NaN         8    0.0              NaN  ...             NaN   \n",
       "14351    NaN         8    1.0              NaN  ...             NaN   \n",
       "14352    NaN         5    0.0              NaN  ...             NaN   \n",
       "14353    NaN         2    0.0              NaN  ...             NaN   \n",
       "14354    NaN         5    0.0              NaN  ...             NaN   \n",
       "\n",
       "       rentals_handgun  rentals_long_gun  private_sale_handgun  \\\n",
       "14350              NaN               NaN                   NaN   \n",
       "14351              NaN               NaN                   NaN   \n",
       "14352              NaN               NaN                   NaN   \n",
       "14353              NaN               NaN                   NaN   \n",
       "14354              NaN               NaN                   NaN   \n",
       "\n",
       "       private_sale_long_gun  private_sale_other  return_to_seller_handgun  \\\n",
       "14350                    NaN                 NaN                       NaN   \n",
       "14351                    NaN                 NaN                       NaN   \n",
       "14352                    NaN                 NaN                       NaN   \n",
       "14353                    NaN                 NaN                       NaN   \n",
       "14354                    NaN                 NaN                       NaN   \n",
       "\n",
       "       return_to_seller_long_gun  return_to_seller_other  totals  \n",
       "14350                        NaN                     NaN      24  \n",
       "14351                        NaN                     NaN     361  \n",
       "14352                        NaN                     NaN     408  \n",
       "14353                        NaN                     NaN     241  \n",
       "14354                        NaN                     NaN     107  \n",
       "\n",
       "[5 rows x 27 columns]"
      ]
     },
     "execution_count": 3,
     "metadata": {},
     "output_type": "execute_result"
    }
   ],
   "source": [
    "# Last 5 rows of the NICS Data\n",
    "df_firearm.tail()"
   ]
  },
  {
   "cell_type": "markdown",
   "metadata": {},
   "source": [
    "### Assessing"
   ]
  },
  {
   "cell_type": "code",
   "execution_count": 4,
   "metadata": {
    "tags": []
   },
   "outputs": [
    {
     "data": {
      "text/plain": [
       "(14355, 27)"
      ]
     },
     "execution_count": 4,
     "metadata": {},
     "output_type": "execute_result"
    }
   ],
   "source": [
    "# NICS Data rows and columns respectively\n",
    "df_firearm.shape"
   ]
  },
  {
   "cell_type": "code",
   "execution_count": 5,
   "metadata": {},
   "outputs": [
    {
     "data": {
      "text/html": [
       "<div>\n",
       "<style scoped>\n",
       "    .dataframe tbody tr th:only-of-type {\n",
       "        vertical-align: middle;\n",
       "    }\n",
       "\n",
       "    .dataframe tbody tr th {\n",
       "        vertical-align: top;\n",
       "    }\n",
       "\n",
       "    .dataframe thead th {\n",
       "        text-align: right;\n",
       "    }\n",
       "</style>\n",
       "<table border=\"1\" class=\"dataframe\">\n",
       "  <thead>\n",
       "    <tr style=\"text-align: right;\">\n",
       "      <th></th>\n",
       "      <th>permit</th>\n",
       "      <th>permit_recheck</th>\n",
       "      <th>handgun</th>\n",
       "      <th>long_gun</th>\n",
       "      <th>other</th>\n",
       "      <th>multiple</th>\n",
       "      <th>admin</th>\n",
       "      <th>prepawn_handgun</th>\n",
       "      <th>prepawn_long_gun</th>\n",
       "      <th>prepawn_other</th>\n",
       "      <th>...</th>\n",
       "      <th>returned_other</th>\n",
       "      <th>rentals_handgun</th>\n",
       "      <th>rentals_long_gun</th>\n",
       "      <th>private_sale_handgun</th>\n",
       "      <th>private_sale_long_gun</th>\n",
       "      <th>private_sale_other</th>\n",
       "      <th>return_to_seller_handgun</th>\n",
       "      <th>return_to_seller_long_gun</th>\n",
       "      <th>return_to_seller_other</th>\n",
       "      <th>totals</th>\n",
       "    </tr>\n",
       "  </thead>\n",
       "  <tbody>\n",
       "    <tr>\n",
       "      <th>count</th>\n",
       "      <td>14331.000000</td>\n",
       "      <td>2970.000000</td>\n",
       "      <td>14335.000000</td>\n",
       "      <td>14336.000000</td>\n",
       "      <td>7370.000000</td>\n",
       "      <td>14355.000000</td>\n",
       "      <td>14332.000000</td>\n",
       "      <td>12412.000000</td>\n",
       "      <td>12410.000000</td>\n",
       "      <td>6985.000000</td>\n",
       "      <td>...</td>\n",
       "      <td>3685.000000</td>\n",
       "      <td>2860.000000</td>\n",
       "      <td>2695.000000</td>\n",
       "      <td>4620.000000</td>\n",
       "      <td>4620.000000</td>\n",
       "      <td>4620.000000</td>\n",
       "      <td>4345.000000</td>\n",
       "      <td>4620.000000</td>\n",
       "      <td>4125.000000</td>\n",
       "      <td>14355.000000</td>\n",
       "    </tr>\n",
       "    <tr>\n",
       "      <th>mean</th>\n",
       "      <td>7133.929105</td>\n",
       "      <td>6615.892256</td>\n",
       "      <td>6739.008720</td>\n",
       "      <td>7851.522391</td>\n",
       "      <td>494.243419</td>\n",
       "      <td>290.875096</td>\n",
       "      <td>54.241976</td>\n",
       "      <td>5.138656</td>\n",
       "      <td>7.610556</td>\n",
       "      <td>0.328561</td>\n",
       "      <td>...</td>\n",
       "      <td>1.826052</td>\n",
       "      <td>0.151399</td>\n",
       "      <td>0.151391</td>\n",
       "      <td>23.739827</td>\n",
       "      <td>19.148701</td>\n",
       "      <td>2.618831</td>\n",
       "      <td>0.852934</td>\n",
       "      <td>0.839394</td>\n",
       "      <td>0.114424</td>\n",
       "      <td>24588.756879</td>\n",
       "    </tr>\n",
       "    <tr>\n",
       "      <th>std</th>\n",
       "      <td>26336.528460</td>\n",
       "      <td>44858.711636</td>\n",
       "      <td>9980.059071</td>\n",
       "      <td>9157.319126</td>\n",
       "      <td>1346.138725</td>\n",
       "      <td>778.441087</td>\n",
       "      <td>571.724200</td>\n",
       "      <td>11.356445</td>\n",
       "      <td>16.003829</td>\n",
       "      <td>1.284153</td>\n",
       "      <td>...</td>\n",
       "      <td>11.265760</td>\n",
       "      <td>1.027336</td>\n",
       "      <td>0.942330</td>\n",
       "      <td>89.363244</td>\n",
       "      <td>71.056124</td>\n",
       "      <td>10.802922</td>\n",
       "      <td>4.313162</td>\n",
       "      <td>3.696040</td>\n",
       "      <td>0.421877</td>\n",
       "      <td>41874.090417</td>\n",
       "    </tr>\n",
       "    <tr>\n",
       "      <th>min</th>\n",
       "      <td>0.000000</td>\n",
       "      <td>0.000000</td>\n",
       "      <td>0.000000</td>\n",
       "      <td>0.000000</td>\n",
       "      <td>0.000000</td>\n",
       "      <td>0.000000</td>\n",
       "      <td>0.000000</td>\n",
       "      <td>0.000000</td>\n",
       "      <td>0.000000</td>\n",
       "      <td>0.000000</td>\n",
       "      <td>...</td>\n",
       "      <td>0.000000</td>\n",
       "      <td>0.000000</td>\n",
       "      <td>0.000000</td>\n",
       "      <td>0.000000</td>\n",
       "      <td>0.000000</td>\n",
       "      <td>0.000000</td>\n",
       "      <td>0.000000</td>\n",
       "      <td>0.000000</td>\n",
       "      <td>0.000000</td>\n",
       "      <td>0.000000</td>\n",
       "    </tr>\n",
       "    <tr>\n",
       "      <th>25%</th>\n",
       "      <td>0.000000</td>\n",
       "      <td>0.000000</td>\n",
       "      <td>1003.500000</td>\n",
       "      <td>2141.000000</td>\n",
       "      <td>26.000000</td>\n",
       "      <td>14.000000</td>\n",
       "      <td>0.000000</td>\n",
       "      <td>0.000000</td>\n",
       "      <td>0.000000</td>\n",
       "      <td>0.000000</td>\n",
       "      <td>...</td>\n",
       "      <td>0.000000</td>\n",
       "      <td>0.000000</td>\n",
       "      <td>0.000000</td>\n",
       "      <td>0.000000</td>\n",
       "      <td>0.000000</td>\n",
       "      <td>0.000000</td>\n",
       "      <td>0.000000</td>\n",
       "      <td>0.000000</td>\n",
       "      <td>0.000000</td>\n",
       "      <td>4950.500000</td>\n",
       "    </tr>\n",
       "    <tr>\n",
       "      <th>50%</th>\n",
       "      <td>738.000000</td>\n",
       "      <td>0.000000</td>\n",
       "      <td>3411.000000</td>\n",
       "      <td>5184.500000</td>\n",
       "      <td>165.000000</td>\n",
       "      <td>133.000000</td>\n",
       "      <td>0.000000</td>\n",
       "      <td>0.000000</td>\n",
       "      <td>1.000000</td>\n",
       "      <td>0.000000</td>\n",
       "      <td>...</td>\n",
       "      <td>0.000000</td>\n",
       "      <td>0.000000</td>\n",
       "      <td>0.000000</td>\n",
       "      <td>0.000000</td>\n",
       "      <td>0.000000</td>\n",
       "      <td>0.000000</td>\n",
       "      <td>0.000000</td>\n",
       "      <td>0.000000</td>\n",
       "      <td>0.000000</td>\n",
       "      <td>13127.000000</td>\n",
       "    </tr>\n",
       "    <tr>\n",
       "      <th>75%</th>\n",
       "      <td>5231.000000</td>\n",
       "      <td>38.500000</td>\n",
       "      <td>8193.500000</td>\n",
       "      <td>10566.250000</td>\n",
       "      <td>500.000000</td>\n",
       "      <td>322.000000</td>\n",
       "      <td>0.000000</td>\n",
       "      <td>5.000000</td>\n",
       "      <td>8.000000</td>\n",
       "      <td>0.000000</td>\n",
       "      <td>...</td>\n",
       "      <td>1.000000</td>\n",
       "      <td>0.000000</td>\n",
       "      <td>0.000000</td>\n",
       "      <td>12.000000</td>\n",
       "      <td>12.000000</td>\n",
       "      <td>1.000000</td>\n",
       "      <td>0.000000</td>\n",
       "      <td>0.000000</td>\n",
       "      <td>0.000000</td>\n",
       "      <td>28049.000000</td>\n",
       "    </tr>\n",
       "    <tr>\n",
       "      <th>max</th>\n",
       "      <td>522188.000000</td>\n",
       "      <td>626794.000000</td>\n",
       "      <td>147714.000000</td>\n",
       "      <td>108058.000000</td>\n",
       "      <td>77929.000000</td>\n",
       "      <td>38907.000000</td>\n",
       "      <td>28083.000000</td>\n",
       "      <td>164.000000</td>\n",
       "      <td>269.000000</td>\n",
       "      <td>49.000000</td>\n",
       "      <td>...</td>\n",
       "      <td>467.000000</td>\n",
       "      <td>13.000000</td>\n",
       "      <td>12.000000</td>\n",
       "      <td>1299.000000</td>\n",
       "      <td>993.000000</td>\n",
       "      <td>232.000000</td>\n",
       "      <td>70.000000</td>\n",
       "      <td>62.000000</td>\n",
       "      <td>4.000000</td>\n",
       "      <td>714424.000000</td>\n",
       "    </tr>\n",
       "  </tbody>\n",
       "</table>\n",
       "<p>8 rows × 25 columns</p>\n",
       "</div>"
      ],
      "text/plain": [
       "              permit  permit_recheck        handgun       long_gun  \\\n",
       "count   14331.000000     2970.000000   14335.000000   14336.000000   \n",
       "mean     7133.929105     6615.892256    6739.008720    7851.522391   \n",
       "std     26336.528460    44858.711636    9980.059071    9157.319126   \n",
       "min         0.000000        0.000000       0.000000       0.000000   \n",
       "25%         0.000000        0.000000    1003.500000    2141.000000   \n",
       "50%       738.000000        0.000000    3411.000000    5184.500000   \n",
       "75%      5231.000000       38.500000    8193.500000   10566.250000   \n",
       "max    522188.000000   626794.000000  147714.000000  108058.000000   \n",
       "\n",
       "              other      multiple         admin  prepawn_handgun  \\\n",
       "count   7370.000000  14355.000000  14332.000000     12412.000000   \n",
       "mean     494.243419    290.875096     54.241976         5.138656   \n",
       "std     1346.138725    778.441087    571.724200        11.356445   \n",
       "min        0.000000      0.000000      0.000000         0.000000   \n",
       "25%       26.000000     14.000000      0.000000         0.000000   \n",
       "50%      165.000000    133.000000      0.000000         0.000000   \n",
       "75%      500.000000    322.000000      0.000000         5.000000   \n",
       "max    77929.000000  38907.000000  28083.000000       164.000000   \n",
       "\n",
       "       prepawn_long_gun  prepawn_other  ...  returned_other  rentals_handgun  \\\n",
       "count      12410.000000    6985.000000  ...     3685.000000      2860.000000   \n",
       "mean           7.610556       0.328561  ...        1.826052         0.151399   \n",
       "std           16.003829       1.284153  ...       11.265760         1.027336   \n",
       "min            0.000000       0.000000  ...        0.000000         0.000000   \n",
       "25%            0.000000       0.000000  ...        0.000000         0.000000   \n",
       "50%            1.000000       0.000000  ...        0.000000         0.000000   \n",
       "75%            8.000000       0.000000  ...        1.000000         0.000000   \n",
       "max          269.000000      49.000000  ...      467.000000        13.000000   \n",
       "\n",
       "       rentals_long_gun  private_sale_handgun  private_sale_long_gun  \\\n",
       "count       2695.000000           4620.000000            4620.000000   \n",
       "mean           0.151391             23.739827              19.148701   \n",
       "std            0.942330             89.363244              71.056124   \n",
       "min            0.000000              0.000000               0.000000   \n",
       "25%            0.000000              0.000000               0.000000   \n",
       "50%            0.000000              0.000000               0.000000   \n",
       "75%            0.000000             12.000000              12.000000   \n",
       "max           12.000000           1299.000000             993.000000   \n",
       "\n",
       "       private_sale_other  return_to_seller_handgun  \\\n",
       "count         4620.000000               4345.000000   \n",
       "mean             2.618831                  0.852934   \n",
       "std             10.802922                  4.313162   \n",
       "min              0.000000                  0.000000   \n",
       "25%              0.000000                  0.000000   \n",
       "50%              0.000000                  0.000000   \n",
       "75%              1.000000                  0.000000   \n",
       "max            232.000000                 70.000000   \n",
       "\n",
       "       return_to_seller_long_gun  return_to_seller_other         totals  \n",
       "count                4620.000000             4125.000000   14355.000000  \n",
       "mean                    0.839394                0.114424   24588.756879  \n",
       "std                     3.696040                0.421877   41874.090417  \n",
       "min                     0.000000                0.000000       0.000000  \n",
       "25%                     0.000000                0.000000    4950.500000  \n",
       "50%                     0.000000                0.000000   13127.000000  \n",
       "75%                     0.000000                0.000000   28049.000000  \n",
       "max                    62.000000                4.000000  714424.000000  \n",
       "\n",
       "[8 rows x 25 columns]"
      ]
     },
     "execution_count": 5,
     "metadata": {},
     "output_type": "execute_result"
    }
   ],
   "source": [
    "df_firearm.describe()"
   ]
  },
  {
   "cell_type": "code",
   "execution_count": 6,
   "metadata": {
    "tags": []
   },
   "outputs": [
    {
     "name": "stdout",
     "output_type": "stream",
     "text": [
      "<class 'pandas.core.frame.DataFrame'>\n",
      "RangeIndex: 14355 entries, 0 to 14354\n",
      "Data columns (total 27 columns):\n",
      " #   Column                     Non-Null Count  Dtype  \n",
      "---  ------                     --------------  -----  \n",
      " 0   month                      14355 non-null  object \n",
      " 1   state                      14355 non-null  object \n",
      " 2   permit                     14331 non-null  float64\n",
      " 3   permit_recheck             2970 non-null   float64\n",
      " 4   handgun                    14335 non-null  float64\n",
      " 5   long_gun                   14336 non-null  float64\n",
      " 6   other                      7370 non-null   float64\n",
      " 7   multiple                   14355 non-null  int64  \n",
      " 8   admin                      14332 non-null  float64\n",
      " 9   prepawn_handgun            12412 non-null  float64\n",
      " 10  prepawn_long_gun           12410 non-null  float64\n",
      " 11  prepawn_other              6985 non-null   float64\n",
      " 12  redemption_handgun         12415 non-null  float64\n",
      " 13  redemption_long_gun        12414 non-null  float64\n",
      " 14  redemption_other           6985 non-null   float64\n",
      " 15  returned_handgun           4070 non-null   float64\n",
      " 16  returned_long_gun          4015 non-null   float64\n",
      " 17  returned_other             3685 non-null   float64\n",
      " 18  rentals_handgun            2860 non-null   float64\n",
      " 19  rentals_long_gun           2695 non-null   float64\n",
      " 20  private_sale_handgun       4620 non-null   float64\n",
      " 21  private_sale_long_gun      4620 non-null   float64\n",
      " 22  private_sale_other         4620 non-null   float64\n",
      " 23  return_to_seller_handgun   4345 non-null   float64\n",
      " 24  return_to_seller_long_gun  4620 non-null   float64\n",
      " 25  return_to_seller_other     4125 non-null   float64\n",
      " 26  totals                     14355 non-null  int64  \n",
      "dtypes: float64(23), int64(2), object(2)\n",
      "memory usage: 3.0+ MB\n"
     ]
    }
   ],
   "source": [
    "# Show some information about the dateset (non-nul values and data type)\n",
    "df_firearm.info()"
   ]
  },
  {
   "cell_type": "markdown",
   "metadata": {},
   "source": [
    "We see here the month column is a `string` ans the other columns are `floats` unlike its actual values in the dataset which is `integer`."
   ]
  },
  {
   "cell_type": "code",
   "execution_count": 7,
   "metadata": {},
   "outputs": [
    {
     "data": {
      "text/plain": [
       "Text(0, 0.5, 'Counts')"
      ]
     },
     "execution_count": 7,
     "metadata": {},
     "output_type": "execute_result"
    },
    {
     "data": {
      "image/png": "[encoded data removed]",
      "text/plain": [
       "<Figure size 1080x576 with 1 Axes>"
      ]
     },
     "metadata": {
      "needs_background": "light"
     },
     "output_type": "display_data"
    }
   ],
   "source": [
    "# Show the counts of the null values in each column in the dataset\n",
    "df_firearm.isnull().sum().plot.bar(figsize=(15,8))\n",
    "plt.title('Count of all the null values in the dataset.')\n",
    "plt.ylabel('Counts')"
   ]
  },
  {
   "cell_type": "markdown",
   "metadata": {},
   "source": [
    "There're a huge number of null values in the data set so, I assumed that some features hadn't been available in the background check since then. So, after looking at the **NICS Data**, there are some operations to perform in order to make it as tidy as possible."
   ]
  },
  {
   "cell_type": "markdown",
   "metadata": {},
   "source": [
    "### Cleaning\n",
    "\n",
    "**First:** Let's drop all the columns that have null values more than the half of the total rows."
   ]
  },
  {
   "cell_type": "code",
   "execution_count": 8,
   "metadata": {},
   "outputs": [
    {
     "data": {
      "text/html": [
       "<div>\n",
       "<style scoped>\n",
       "    .dataframe tbody tr th:only-of-type {\n",
       "        vertical-align: middle;\n",
       "    }\n",
       "\n",
       "    .dataframe tbody tr th {\n",
       "        vertical-align: top;\n",
       "    }\n",
       "\n",
       "    .dataframe thead th {\n",
       "        text-align: right;\n",
       "    }\n",
       "</style>\n",
       "<table border=\"1\" class=\"dataframe\">\n",
       "  <thead>\n",
       "    <tr style=\"text-align: right;\">\n",
       "      <th></th>\n",
       "      <th>month</th>\n",
       "      <th>state</th>\n",
       "      <th>permit</th>\n",
       "      <th>handgun</th>\n",
       "      <th>long_gun</th>\n",
       "      <th>other</th>\n",
       "      <th>multiple</th>\n",
       "      <th>admin</th>\n",
       "      <th>prepawn_handgun</th>\n",
       "      <th>prepawn_long_gun</th>\n",
       "      <th>redemption_handgun</th>\n",
       "      <th>redemption_long_gun</th>\n",
       "      <th>totals</th>\n",
       "    </tr>\n",
       "  </thead>\n",
       "  <tbody>\n",
       "    <tr>\n",
       "      <th>0</th>\n",
       "      <td>2020-07</td>\n",
       "      <td>Alabama</td>\n",
       "      <td>48126.0</td>\n",
       "      <td>34909.0</td>\n",
       "      <td>17250.0</td>\n",
       "      <td>2498.0</td>\n",
       "      <td>1170</td>\n",
       "      <td>0.0</td>\n",
       "      <td>33.0</td>\n",
       "      <td>20.0</td>\n",
       "      <td>1908.0</td>\n",
       "      <td>770.0</td>\n",
       "      <td>107490</td>\n",
       "    </tr>\n",
       "    <tr>\n",
       "      <th>1</th>\n",
       "      <td>2020-07</td>\n",
       "      <td>Alaska</td>\n",
       "      <td>69.0</td>\n",
       "      <td>4949.0</td>\n",
       "      <td>3779.0</td>\n",
       "      <td>435.0</td>\n",
       "      <td>283</td>\n",
       "      <td>0.0</td>\n",
       "      <td>0.0</td>\n",
       "      <td>1.0</td>\n",
       "      <td>177.0</td>\n",
       "      <td>129.0</td>\n",
       "      <td>10108</td>\n",
       "    </tr>\n",
       "    <tr>\n",
       "      <th>2</th>\n",
       "      <td>2020-07</td>\n",
       "      <td>Arizona</td>\n",
       "      <td>9402.0</td>\n",
       "      <td>31040.0</td>\n",
       "      <td>12361.0</td>\n",
       "      <td>2411.0</td>\n",
       "      <td>2866</td>\n",
       "      <td>0.0</td>\n",
       "      <td>7.0</td>\n",
       "      <td>3.0</td>\n",
       "      <td>827.0</td>\n",
       "      <td>314.0</td>\n",
       "      <td>60330</td>\n",
       "    </tr>\n",
       "    <tr>\n",
       "      <th>3</th>\n",
       "      <td>2020-07</td>\n",
       "      <td>Arkansas</td>\n",
       "      <td>4292.0</td>\n",
       "      <td>12391.0</td>\n",
       "      <td>7322.0</td>\n",
       "      <td>738.0</td>\n",
       "      <td>432</td>\n",
       "      <td>3.0</td>\n",
       "      <td>12.0</td>\n",
       "      <td>8.0</td>\n",
       "      <td>865.0</td>\n",
       "      <td>696.0</td>\n",
       "      <td>27647</td>\n",
       "    </tr>\n",
       "    <tr>\n",
       "      <th>4</th>\n",
       "      <td>2020-07</td>\n",
       "      <td>California</td>\n",
       "      <td>35097.0</td>\n",
       "      <td>67672.0</td>\n",
       "      <td>38618.0</td>\n",
       "      <td>7530.0</td>\n",
       "      <td>0</td>\n",
       "      <td>0.0</td>\n",
       "      <td>0.0</td>\n",
       "      <td>0.0</td>\n",
       "      <td>449.0</td>\n",
       "      <td>315.0</td>\n",
       "      <td>149685</td>\n",
       "    </tr>\n",
       "  </tbody>\n",
       "</table>\n",
       "</div>"
      ],
      "text/plain": [
       "     month       state   permit  handgun  long_gun   other  multiple  admin  \\\n",
       "0  2020-07     Alabama  48126.0  34909.0   17250.0  2498.0      1170    0.0   \n",
       "1  2020-07      Alaska     69.0   4949.0    3779.0   435.0       283    0.0   \n",
       "2  2020-07     Arizona   9402.0  31040.0   12361.0  2411.0      2866    0.0   \n",
       "3  2020-07    Arkansas   4292.0  12391.0    7322.0   738.0       432    3.0   \n",
       "4  2020-07  California  35097.0  67672.0   38618.0  7530.0         0    0.0   \n",
       "\n",
       "   prepawn_handgun  prepawn_long_gun  redemption_handgun  redemption_long_gun  \\\n",
       "0             33.0              20.0              1908.0                770.0   \n",
       "1              0.0               1.0               177.0                129.0   \n",
       "2              7.0               3.0               827.0                314.0   \n",
       "3             12.0               8.0               865.0                696.0   \n",
       "4              0.0               0.0               449.0                315.0   \n",
       "\n",
       "   totals  \n",
       "0  107490  \n",
       "1   10108  \n",
       "2   60330  \n",
       "3   27647  \n",
       "4  149685  "
      ]
     },
     "execution_count": 8,
     "metadata": {},
     "output_type": "execute_result"
    }
   ],
   "source": [
    "# Getting all the rows\n",
    "all_rows = df_firearm.shape[0]\n",
    "# Drop the columns that has more null vaules\n",
    "for c in df_firearm.columns:\n",
    "    if df_firearm[c].isnull().sum() > all_rows/2:\n",
    "        df_firearm.drop(c, inplace=True, axis=1)\n",
    "df_firearm.head()"
   ]
  },
  {
   "cell_type": "markdown",
   "metadata": {},
   "source": [
    "I've seen that **permit** column can be excluded from the data in order to make it more consistent."
   ]
  },
  {
   "cell_type": "code",
   "execution_count": 9,
   "metadata": {},
   "outputs": [],
   "source": [
    "# Drop \"permit\" column from the dataset\n",
    "df_firearm.drop('permit', axis=1, inplace=True)"
   ]
  },
  {
   "cell_type": "code",
   "execution_count": 10,
   "metadata": {},
   "outputs": [
    {
     "data": {
      "text/plain": [
       "month                     0\n",
       "state                     0\n",
       "handgun                  20\n",
       "long_gun                 19\n",
       "other                  6985\n",
       "multiple                  0\n",
       "admin                    23\n",
       "prepawn_handgun        1943\n",
       "prepawn_long_gun       1945\n",
       "redemption_handgun     1940\n",
       "redemption_long_gun    1941\n",
       "totals                    0\n",
       "dtype: int64"
      ]
     },
     "execution_count": 10,
     "metadata": {},
     "output_type": "execute_result"
    }
   ],
   "source": [
    "# Check for any other null values\n",
    "df_firearm.isnull().sum()"
   ]
  },
  {
   "cell_type": "markdown",
   "metadata": {},
   "source": [
    "There is also **other** column that has a lot of null values, so let's drop it either."
   ]
  },
  {
   "cell_type": "code",
   "execution_count": 11,
   "metadata": {},
   "outputs": [],
   "source": [
    "# Drop the \"other\" column\n",
    "df_firearm.drop('other', axis=1, inplace=True)"
   ]
  },
  {
   "cell_type": "markdown",
   "metadata": {},
   "source": [
    "The nulls values now are less than before, so I'll fill the rest nulls with zeros."
   ]
  },
  {
   "cell_type": "code",
   "execution_count": 12,
   "metadata": {},
   "outputs": [],
   "source": [
    "df_firearm.fillna(df_firearm.mean(), inplace=True)"
   ]
  },
  {
   "cell_type": "code",
   "execution_count": 13,
   "metadata": {},
   "outputs": [
    {
     "data": {
      "text/plain": [
       "month                  0\n",
       "state                  0\n",
       "handgun                0\n",
       "long_gun               0\n",
       "multiple               0\n",
       "admin                  0\n",
       "prepawn_handgun        0\n",
       "prepawn_long_gun       0\n",
       "redemption_handgun     0\n",
       "redemption_long_gun    0\n",
       "totals                 0\n",
       "dtype: int64"
      ]
     },
     "execution_count": 13,
     "metadata": {},
     "output_type": "execute_result"
    }
   ],
   "source": [
    "# Check again for the null values\n",
    "df_firearm.isnull().sum()"
   ]
  },
  {
   "cell_type": "markdown",
   "metadata": {},
   "source": [
    "Now, all the data have been cleaned from the null values, let's dig into the second step.\n",
    "\n",
    "**Second:** Converting the **month** column into `datetime` and the other columns to `int` in order to make it easier to work with."
   ]
  },
  {
   "cell_type": "code",
   "execution_count": 14,
   "metadata": {
    "tags": []
   },
   "outputs": [
    {
     "name": "stdout",
     "output_type": "stream",
     "text": [
      "<class 'pandas.core.frame.DataFrame'>\n",
      "RangeIndex: 14355 entries, 0 to 14354\n",
      "Data columns (total 11 columns):\n",
      " #   Column               Non-Null Count  Dtype         \n",
      "---  ------               --------------  -----         \n",
      " 0   month                14355 non-null  datetime64[ns]\n",
      " 1   state                14355 non-null  object        \n",
      " 2   handgun              14355 non-null  int32         \n",
      " 3   long_gun             14355 non-null  int32         \n",
      " 4   multiple             14355 non-null  int32         \n",
      " 5   admin                14355 non-null  int32         \n",
      " 6   prepawn_handgun      14355 non-null  int32         \n",
      " 7   prepawn_long_gun     14355 non-null  int32         \n",
      " 8   redemption_handgun   14355 non-null  int32         \n",
      " 9   redemption_long_gun  14355 non-null  int32         \n",
      " 10  totals               14355 non-null  int32         \n",
      "dtypes: datetime64[ns](1), int32(9), object(1)\n",
      "memory usage: 729.1+ KB\n"
     ]
    }
   ],
   "source": [
    "df_firearm.month = pd.to_datetime(df_firearm.month)\n",
    "for col in df_firearm.columns[2:]:\n",
    "    df_firearm[col] = df_firearm[col].astype(int)\n",
    "df_firearm.info()"
   ]
  },
  {
   "cell_type": "markdown",
   "metadata": {},
   "source": [
    "Now, we got a problem here and that is the **totals** column is still the same, so let's recalculate it."
   ]
  },
  {
   "cell_type": "code",
   "execution_count": 15,
   "metadata": {},
   "outputs": [
    {
     "data": {
      "text/html": [
       "<div>\n",
       "<style scoped>\n",
       "    .dataframe tbody tr th:only-of-type {\n",
       "        vertical-align: middle;\n",
       "    }\n",
       "\n",
       "    .dataframe tbody tr th {\n",
       "        vertical-align: top;\n",
       "    }\n",
       "\n",
       "    .dataframe thead th {\n",
       "        text-align: right;\n",
       "    }\n",
       "</style>\n",
       "<table border=\"1\" class=\"dataframe\">\n",
       "  <thead>\n",
       "    <tr style=\"text-align: right;\">\n",
       "      <th></th>\n",
       "      <th>month</th>\n",
       "      <th>state</th>\n",
       "      <th>handgun</th>\n",
       "      <th>long_gun</th>\n",
       "      <th>multiple</th>\n",
       "      <th>admin</th>\n",
       "      <th>prepawn_handgun</th>\n",
       "      <th>prepawn_long_gun</th>\n",
       "      <th>redemption_handgun</th>\n",
       "      <th>redemption_long_gun</th>\n",
       "      <th>totals</th>\n",
       "    </tr>\n",
       "  </thead>\n",
       "  <tbody>\n",
       "    <tr>\n",
       "      <th>0</th>\n",
       "      <td>2020-07-01</td>\n",
       "      <td>Alabama</td>\n",
       "      <td>34909</td>\n",
       "      <td>17250</td>\n",
       "      <td>1170</td>\n",
       "      <td>0</td>\n",
       "      <td>33</td>\n",
       "      <td>20</td>\n",
       "      <td>1908</td>\n",
       "      <td>770</td>\n",
       "      <td>56060</td>\n",
       "    </tr>\n",
       "    <tr>\n",
       "      <th>1</th>\n",
       "      <td>2020-07-01</td>\n",
       "      <td>Alaska</td>\n",
       "      <td>4949</td>\n",
       "      <td>3779</td>\n",
       "      <td>283</td>\n",
       "      <td>0</td>\n",
       "      <td>0</td>\n",
       "      <td>1</td>\n",
       "      <td>177</td>\n",
       "      <td>129</td>\n",
       "      <td>9318</td>\n",
       "    </tr>\n",
       "    <tr>\n",
       "      <th>2</th>\n",
       "      <td>2020-07-01</td>\n",
       "      <td>Arizona</td>\n",
       "      <td>31040</td>\n",
       "      <td>12361</td>\n",
       "      <td>2866</td>\n",
       "      <td>0</td>\n",
       "      <td>7</td>\n",
       "      <td>3</td>\n",
       "      <td>827</td>\n",
       "      <td>314</td>\n",
       "      <td>47418</td>\n",
       "    </tr>\n",
       "    <tr>\n",
       "      <th>3</th>\n",
       "      <td>2020-07-01</td>\n",
       "      <td>Arkansas</td>\n",
       "      <td>12391</td>\n",
       "      <td>7322</td>\n",
       "      <td>432</td>\n",
       "      <td>3</td>\n",
       "      <td>12</td>\n",
       "      <td>8</td>\n",
       "      <td>865</td>\n",
       "      <td>696</td>\n",
       "      <td>21729</td>\n",
       "    </tr>\n",
       "    <tr>\n",
       "      <th>4</th>\n",
       "      <td>2020-07-01</td>\n",
       "      <td>California</td>\n",
       "      <td>67672</td>\n",
       "      <td>38618</td>\n",
       "      <td>0</td>\n",
       "      <td>0</td>\n",
       "      <td>0</td>\n",
       "      <td>0</td>\n",
       "      <td>449</td>\n",
       "      <td>315</td>\n",
       "      <td>107054</td>\n",
       "    </tr>\n",
       "  </tbody>\n",
       "</table>\n",
       "</div>"
      ],
      "text/plain": [
       "       month       state  handgun  long_gun  multiple  admin  prepawn_handgun  \\\n",
       "0 2020-07-01     Alabama    34909     17250      1170      0               33   \n",
       "1 2020-07-01      Alaska     4949      3779       283      0                0   \n",
       "2 2020-07-01     Arizona    31040     12361      2866      0                7   \n",
       "3 2020-07-01    Arkansas    12391      7322       432      3               12   \n",
       "4 2020-07-01  California    67672     38618         0      0                0   \n",
       "\n",
       "   prepawn_long_gun  redemption_handgun  redemption_long_gun  totals  \n",
       "0                20                1908                  770   56060  \n",
       "1                 1                 177                  129    9318  \n",
       "2                 3                 827                  314   47418  \n",
       "3                 8                 865                  696   21729  \n",
       "4                 0                 449                  315  107054  "
      ]
     },
     "execution_count": 15,
     "metadata": {},
     "output_type": "execute_result"
    }
   ],
   "source": [
    "# Recalculate the totals by sum of [handgun,long_gun, multiple, admin, prepawn_handgun, prepawn_long_gun, redemption_handgun, redemption_long_gun] columns\n",
    "df_firearm.totals = df_firearm[df_firearm.columns[2:-1]].sum(axis=1)\n",
    "df_firearm.head()"
   ]
  },
  {
   "cell_type": "code",
   "execution_count": 16,
   "metadata": {},
   "outputs": [
    {
     "data": {
      "text/plain": [
       "False"
      ]
     },
     "execution_count": 16,
     "metadata": {},
     "output_type": "execute_result"
    }
   ],
   "source": [
    "# Check for any duplicates in the dateset\n",
    "df_firearm.duplicated().all()"
   ]
  },
  {
   "cell_type": "code",
   "execution_count": 17,
   "metadata": {},
   "outputs": [
    {
     "data": {
      "text/plain": [
       "55"
      ]
     },
     "execution_count": 17,
     "metadata": {},
     "output_type": "execute_result"
    }
   ],
   "source": [
    "df_firearm.state.nunique()"
   ]
  },
  {
   "cell_type": "markdown",
   "metadata": {},
   "source": [
    "That's good, there are no duplicates in our dataset. And there are **55** unique states that have been performing background checks before any gun purchases.\n",
    "\n",
    "As far as we got here, we've cleaned our dataset. So, let's dive deep into exploratory analysis and addressing the questions we've possed above."
   ]
  },
  {
   "cell_type": "markdown",
   "metadata": {},
   "source": [
    "<a id='eda'></a>\n",
    "## Exploratory Analysis\n",
    "\n",
    "Now, we're looking for any relationships between the variables in our dataset."
   ]
  },
  {
   "cell_type": "code",
   "execution_count": 18,
   "metadata": {},
   "outputs": [
    {
     "data": {
      "text/html": [
       "<div>\n",
       "<style scoped>\n",
       "    .dataframe tbody tr th:only-of-type {\n",
       "        vertical-align: middle;\n",
       "    }\n",
       "\n",
       "    .dataframe tbody tr th {\n",
       "        vertical-align: top;\n",
       "    }\n",
       "\n",
       "    .dataframe thead th {\n",
       "        text-align: right;\n",
       "    }\n",
       "</style>\n",
       "<table border=\"1\" class=\"dataframe\">\n",
       "  <thead>\n",
       "    <tr style=\"text-align: right;\">\n",
       "      <th></th>\n",
       "      <th>handgun</th>\n",
       "      <th>long_gun</th>\n",
       "      <th>multiple</th>\n",
       "      <th>admin</th>\n",
       "      <th>prepawn_handgun</th>\n",
       "      <th>prepawn_long_gun</th>\n",
       "      <th>redemption_handgun</th>\n",
       "      <th>redemption_long_gun</th>\n",
       "      <th>totals</th>\n",
       "    </tr>\n",
       "  </thead>\n",
       "  <tbody>\n",
       "    <tr>\n",
       "      <th>handgun</th>\n",
       "      <td>1.000000</td>\n",
       "      <td>0.594623</td>\n",
       "      <td>0.419811</td>\n",
       "      <td>0.034381</td>\n",
       "      <td>0.310036</td>\n",
       "      <td>0.136229</td>\n",
       "      <td>0.524976</td>\n",
       "      <td>0.318124</td>\n",
       "      <td>0.900653</td>\n",
       "    </tr>\n",
       "    <tr>\n",
       "      <th>long_gun</th>\n",
       "      <td>0.594623</td>\n",
       "      <td>1.000000</td>\n",
       "      <td>0.309693</td>\n",
       "      <td>0.044445</td>\n",
       "      <td>0.281275</td>\n",
       "      <td>0.209268</td>\n",
       "      <td>0.412971</td>\n",
       "      <td>0.378868</td>\n",
       "      <td>0.876091</td>\n",
       "    </tr>\n",
       "    <tr>\n",
       "      <th>multiple</th>\n",
       "      <td>0.419811</td>\n",
       "      <td>0.309693</td>\n",
       "      <td>1.000000</td>\n",
       "      <td>0.006742</td>\n",
       "      <td>0.261140</td>\n",
       "      <td>0.136699</td>\n",
       "      <td>0.394199</td>\n",
       "      <td>0.281645</td>\n",
       "      <td>0.457636</td>\n",
       "    </tr>\n",
       "    <tr>\n",
       "      <th>admin</th>\n",
       "      <td>0.034381</td>\n",
       "      <td>0.044445</td>\n",
       "      <td>0.006742</td>\n",
       "      <td>1.000000</td>\n",
       "      <td>0.013342</td>\n",
       "      <td>-0.004107</td>\n",
       "      <td>0.008421</td>\n",
       "      <td>0.003340</td>\n",
       "      <td>0.073120</td>\n",
       "    </tr>\n",
       "    <tr>\n",
       "      <th>prepawn_handgun</th>\n",
       "      <td>0.310036</td>\n",
       "      <td>0.281275</td>\n",
       "      <td>0.261140</td>\n",
       "      <td>0.013342</td>\n",
       "      <td>1.000000</td>\n",
       "      <td>0.728784</td>\n",
       "      <td>0.683998</td>\n",
       "      <td>0.651159</td>\n",
       "      <td>0.382916</td>\n",
       "    </tr>\n",
       "    <tr>\n",
       "      <th>prepawn_long_gun</th>\n",
       "      <td>0.136229</td>\n",
       "      <td>0.209268</td>\n",
       "      <td>0.136699</td>\n",
       "      <td>-0.004107</td>\n",
       "      <td>0.728784</td>\n",
       "      <td>1.000000</td>\n",
       "      <td>0.455760</td>\n",
       "      <td>0.605666</td>\n",
       "      <td>0.234186</td>\n",
       "    </tr>\n",
       "    <tr>\n",
       "      <th>redemption_handgun</th>\n",
       "      <td>0.524976</td>\n",
       "      <td>0.412971</td>\n",
       "      <td>0.394199</td>\n",
       "      <td>0.008421</td>\n",
       "      <td>0.683998</td>\n",
       "      <td>0.455760</td>\n",
       "      <td>1.000000</td>\n",
       "      <td>0.849402</td>\n",
       "      <td>0.594275</td>\n",
       "    </tr>\n",
       "    <tr>\n",
       "      <th>redemption_long_gun</th>\n",
       "      <td>0.318124</td>\n",
       "      <td>0.378868</td>\n",
       "      <td>0.281645</td>\n",
       "      <td>0.003340</td>\n",
       "      <td>0.651159</td>\n",
       "      <td>0.605666</td>\n",
       "      <td>0.849402</td>\n",
       "      <td>1.000000</td>\n",
       "      <td>0.459961</td>\n",
       "    </tr>\n",
       "    <tr>\n",
       "      <th>totals</th>\n",
       "      <td>0.900653</td>\n",
       "      <td>0.876091</td>\n",
       "      <td>0.457636</td>\n",
       "      <td>0.073120</td>\n",
       "      <td>0.382916</td>\n",
       "      <td>0.234186</td>\n",
       "      <td>0.594275</td>\n",
       "      <td>0.459961</td>\n",
       "      <td>1.000000</td>\n",
       "    </tr>\n",
       "  </tbody>\n",
       "</table>\n",
       "</div>"
      ],
      "text/plain": [
       "                      handgun  long_gun  multiple     admin  prepawn_handgun  \\\n",
       "handgun              1.000000  0.594623  0.419811  0.034381         0.310036   \n",
       "long_gun             0.594623  1.000000  0.309693  0.044445         0.281275   \n",
       "multiple             0.419811  0.309693  1.000000  0.006742         0.261140   \n",
       "admin                0.034381  0.044445  0.006742  1.000000         0.013342   \n",
       "prepawn_handgun      0.310036  0.281275  0.261140  0.013342         1.000000   \n",
       "prepawn_long_gun     0.136229  0.209268  0.136699 -0.004107         0.728784   \n",
       "redemption_handgun   0.524976  0.412971  0.394199  0.008421         0.683998   \n",
       "redemption_long_gun  0.318124  0.378868  0.281645  0.003340         0.651159   \n",
       "totals               0.900653  0.876091  0.457636  0.073120         0.382916   \n",
       "\n",
       "                     prepawn_long_gun  redemption_handgun  \\\n",
       "handgun                      0.136229            0.524976   \n",
       "long_gun                     0.209268            0.412971   \n",
       "multiple                     0.136699            0.394199   \n",
       "admin                       -0.004107            0.008421   \n",
       "prepawn_handgun              0.728784            0.683998   \n",
       "prepawn_long_gun             1.000000            0.455760   \n",
       "redemption_handgun           0.455760            1.000000   \n",
       "redemption_long_gun          0.605666            0.849402   \n",
       "totals                       0.234186            0.594275   \n",
       "\n",
       "                     redemption_long_gun    totals  \n",
       "handgun                         0.318124  0.900653  \n",
       "long_gun                        0.378868  0.876091  \n",
       "multiple                        0.281645  0.457636  \n",
       "admin                           0.003340  0.073120  \n",
       "prepawn_handgun                 0.651159  0.382916  \n",
       "prepawn_long_gun                0.605666  0.234186  \n",
       "redemption_handgun              0.849402  0.594275  \n",
       "redemption_long_gun             1.000000  0.459961  \n",
       "totals                          0.459961  1.000000  "
      ]
     },
     "execution_count": 18,
     "metadata": {},
     "output_type": "execute_result"
    }
   ],
   "source": [
    "# pd.plotting.scatter_matrix(df_firearm.drop('totals', axis=1), figsize=(20,10))\n",
    "df_firearm.corr()"
   ]
  },
  {
   "cell_type": "code",
   "execution_count": 19,
   "metadata": {},
   "outputs": [
    {
     "data": {
      "text/plain": [
       "Text(0.5, 1.0, 'Histograms of all the variables in the dataset')"
      ]
     },
     "execution_count": 19,
     "metadata": {},
     "output_type": "execute_result"
    },
    {
     "data": {
      "image/png": "[encoded data removed]",
      "text/plain": [
       "<Figure size 1080x576 with 9 Axes>"
      ]
     },
     "metadata": {
      "needs_background": "light"
     },
     "output_type": "display_data"
    }
   ],
   "source": [
    "# Plot the histogrm for each column\n",
    "df_firearm.hist(figsize=(15,8), bins=30)\n",
    "plt.title('Histograms of all the variables in the dataset')"
   ]
  },
  {
   "cell_type": "markdown",
   "metadata": {},
   "source": [
    "The data here seems to be much more skewed to the right."
   ]
  },
  {
   "cell_type": "markdown",
   "metadata": {},
   "source": [
    "<a id=\"q1\"></a>\n",
    "### Which states have had the highest growth in gun registration and by which year?\n",
    "\n",
    "We can address this question in 2 ways:\n",
    "1. Look for the totals number of checks and pick the maximum one.\n",
    "2. Group by each state by the average of the total number of checks.\n",
    "\n",
    "Looking at the maximum total number of checks."
   ]
  },
  {
   "cell_type": "code",
   "execution_count": 20,
   "metadata": {},
   "outputs": [
    {
     "data": {
      "text/html": [
       "<div>\n",
       "<style scoped>\n",
       "    .dataframe tbody tr th:only-of-type {\n",
       "        vertical-align: middle;\n",
       "    }\n",
       "\n",
       "    .dataframe tbody tr th {\n",
       "        vertical-align: top;\n",
       "    }\n",
       "\n",
       "    .dataframe thead th {\n",
       "        text-align: right;\n",
       "    }\n",
       "</style>\n",
       "<table border=\"1\" class=\"dataframe\">\n",
       "  <thead>\n",
       "    <tr style=\"text-align: right;\">\n",
       "      <th></th>\n",
       "      <th>month</th>\n",
       "      <th>state</th>\n",
       "      <th>handgun</th>\n",
       "      <th>long_gun</th>\n",
       "      <th>multiple</th>\n",
       "      <th>admin</th>\n",
       "      <th>prepawn_handgun</th>\n",
       "      <th>prepawn_long_gun</th>\n",
       "      <th>redemption_handgun</th>\n",
       "      <th>redemption_long_gun</th>\n",
       "      <th>totals</th>\n",
       "    </tr>\n",
       "  </thead>\n",
       "  <tbody>\n",
       "    <tr>\n",
       "      <th>266</th>\n",
       "      <td>2020-03-01</td>\n",
       "      <td>Texas</td>\n",
       "      <td>147714</td>\n",
       "      <td>61827</td>\n",
       "      <td>8286</td>\n",
       "      <td>0</td>\n",
       "      <td>138</td>\n",
       "      <td>69</td>\n",
       "      <td>9200</td>\n",
       "      <td>5047</td>\n",
       "      <td>232281</td>\n",
       "    </tr>\n",
       "  </tbody>\n",
       "</table>\n",
       "</div>"
      ],
      "text/plain": [
       "         month  state  handgun  long_gun  multiple  admin  prepawn_handgun  \\\n",
       "266 2020-03-01  Texas   147714     61827      8286      0              138   \n",
       "\n",
       "     prepawn_long_gun  redemption_handgun  redemption_long_gun  totals  \n",
       "266                69                9200                 5047  232281  "
      ]
     },
     "execution_count": 20,
     "metadata": {},
     "output_type": "execute_result"
    }
   ],
   "source": [
    "df_firearm[df_firearm.totals == df_firearm.totals.max()]"
   ]
  },
  {
   "cell_type": "markdown",
   "metadata": {},
   "source": [
    "As we see **Texas** has the most checks for gun purchases on **March - 2020**.\n",
    "\n",
    "Now let's see the same question, but for the average of all the years."
   ]
  },
  {
   "cell_type": "code",
   "execution_count": 21,
   "metadata": {},
   "outputs": [
    {
     "data": {
      "text/plain": [
       "Text(0.5, 1.0, 'The first 3 states with the most background checks')"
      ]
     },
     "execution_count": 21,
     "metadata": {},
     "output_type": "execute_result"
    },
    {
     "data": {
      "image/png": "[encoded data removed]",
      "text/plain": [
       "<Figure size 1080x360 with 1 Axes>"
      ]
     },
     "metadata": {
      "needs_background": "light"
     },
     "output_type": "display_data"
    }
   ],
   "source": [
    "# Group by every state and plot the total checks for each one\n",
    "df_firearm_states = df_firearm.groupby('state')\n",
    "df_firearm_states.mean() \\\n",
    "    .totals.sort_values()[-3:] \\\n",
    "    .plot.bar(figsize=(15,5), grid=True)\n",
    "plt.ylabel('check counts')\n",
    "plt.title('The first 3 states with the most background checks')"
   ]
  },
  {
   "cell_type": "markdown",
   "metadata": {},
   "source": [
    "The most 3 states in which perform a background check for any gun purchases are **Texas**, **California**, and **Pennsylvania** respectively. "
   ]
  },
  {
   "cell_type": "markdown",
   "metadata": {},
   "source": [
    "<a id=\"q3\"></a>\n",
    "### By how much all the gun check types is decreased over the last decade?\n",
    "\n",
    "Let's get all the background check types by each year."
   ]
  },
  {
   "cell_type": "code",
   "execution_count": 22,
   "metadata": {},
   "outputs": [
    {
     "data": {
      "text/html": [
       "<div>\n",
       "<style scoped>\n",
       "    .dataframe tbody tr th:only-of-type {\n",
       "        vertical-align: middle;\n",
       "    }\n",
       "\n",
       "    .dataframe tbody tr th {\n",
       "        vertical-align: top;\n",
       "    }\n",
       "\n",
       "    .dataframe thead th {\n",
       "        text-align: right;\n",
       "    }\n",
       "</style>\n",
       "<table border=\"1\" class=\"dataframe\">\n",
       "  <thead>\n",
       "    <tr style=\"text-align: right;\">\n",
       "      <th></th>\n",
       "      <th>handgun</th>\n",
       "      <th>long_gun</th>\n",
       "      <th>multiple</th>\n",
       "      <th>admin</th>\n",
       "      <th>prepawn_handgun</th>\n",
       "      <th>prepawn_long_gun</th>\n",
       "      <th>redemption_handgun</th>\n",
       "      <th>redemption_long_gun</th>\n",
       "      <th>totals</th>\n",
       "    </tr>\n",
       "    <tr>\n",
       "      <th>month</th>\n",
       "      <th></th>\n",
       "      <th></th>\n",
       "      <th></th>\n",
       "      <th></th>\n",
       "      <th></th>\n",
       "      <th></th>\n",
       "      <th></th>\n",
       "      <th></th>\n",
       "      <th></th>\n",
       "    </tr>\n",
       "  </thead>\n",
       "  <tbody>\n",
       "    <tr>\n",
       "      <th>2010</th>\n",
       "      <td>3678001</td>\n",
       "      <td>4842184</td>\n",
       "      <td>180609</td>\n",
       "      <td>6751</td>\n",
       "      <td>3128</td>\n",
       "      <td>5175</td>\n",
       "      <td>260441</td>\n",
       "      <td>406680</td>\n",
       "      <td>9382969</td>\n",
       "    </tr>\n",
       "    <tr>\n",
       "      <th>2011</th>\n",
       "      <td>4301389</td>\n",
       "      <td>5445966</td>\n",
       "      <td>219618</td>\n",
       "      <td>11912</td>\n",
       "      <td>3161</td>\n",
       "      <td>4489</td>\n",
       "      <td>298167</td>\n",
       "      <td>435954</td>\n",
       "      <td>10720656</td>\n",
       "    </tr>\n",
       "    <tr>\n",
       "      <th>2012</th>\n",
       "      <td>5682963</td>\n",
       "      <td>6866225</td>\n",
       "      <td>230270</td>\n",
       "      <td>6670</td>\n",
       "      <td>2927</td>\n",
       "      <td>3961</td>\n",
       "      <td>350060</td>\n",
       "      <td>473676</td>\n",
       "      <td>13616752</td>\n",
       "    </tr>\n",
       "    <tr>\n",
       "      <th>2013</th>\n",
       "      <td>6387502</td>\n",
       "      <td>7128798</td>\n",
       "      <td>241360</td>\n",
       "      <td>5664</td>\n",
       "      <td>2500</td>\n",
       "      <td>3418</td>\n",
       "      <td>359478</td>\n",
       "      <td>453518</td>\n",
       "      <td>14582238</td>\n",
       "    </tr>\n",
       "    <tr>\n",
       "      <th>2014</th>\n",
       "      <td>6199243</td>\n",
       "      <td>5543371</td>\n",
       "      <td>225475</td>\n",
       "      <td>4258</td>\n",
       "      <td>2225</td>\n",
       "      <td>2822</td>\n",
       "      <td>386936</td>\n",
       "      <td>452908</td>\n",
       "      <td>12817238</td>\n",
       "    </tr>\n",
       "    <tr>\n",
       "      <th>2015</th>\n",
       "      <td>7333808</td>\n",
       "      <td>5479441</td>\n",
       "      <td>242375</td>\n",
       "      <td>7037</td>\n",
       "      <td>2362</td>\n",
       "      <td>2531</td>\n",
       "      <td>395152</td>\n",
       "      <td>415076</td>\n",
       "      <td>13877782</td>\n",
       "    </tr>\n",
       "    <tr>\n",
       "      <th>2016</th>\n",
       "      <td>8085498</td>\n",
       "      <td>5988511</td>\n",
       "      <td>257723</td>\n",
       "      <td>3366</td>\n",
       "      <td>2623</td>\n",
       "      <td>2567</td>\n",
       "      <td>402461</td>\n",
       "      <td>381004</td>\n",
       "      <td>15123753</td>\n",
       "    </tr>\n",
       "    <tr>\n",
       "      <th>2017</th>\n",
       "      <td>7226979</td>\n",
       "      <td>5234757</td>\n",
       "      <td>236167</td>\n",
       "      <td>5643</td>\n",
       "      <td>3233</td>\n",
       "      <td>2906</td>\n",
       "      <td>415493</td>\n",
       "      <td>353393</td>\n",
       "      <td>13478571</td>\n",
       "    </tr>\n",
       "    <tr>\n",
       "      <th>2018</th>\n",
       "      <td>6576111</td>\n",
       "      <td>4916533</td>\n",
       "      <td>257088</td>\n",
       "      <td>14767</td>\n",
       "      <td>4359</td>\n",
       "      <td>3460</td>\n",
       "      <td>416906</td>\n",
       "      <td>321655</td>\n",
       "      <td>12510879</td>\n",
       "    </tr>\n",
       "    <tr>\n",
       "      <th>2019</th>\n",
       "      <td>6802167</td>\n",
       "      <td>4744298</td>\n",
       "      <td>256524</td>\n",
       "      <td>24057</td>\n",
       "      <td>4627</td>\n",
       "      <td>4388</td>\n",
       "      <td>415913</td>\n",
       "      <td>289175</td>\n",
       "      <td>12541149</td>\n",
       "    </tr>\n",
       "    <tr>\n",
       "      <th>2020</th>\n",
       "      <td>7188053</td>\n",
       "      <td>3715173</td>\n",
       "      <td>241609</td>\n",
       "      <td>3429</td>\n",
       "      <td>2832</td>\n",
       "      <td>3015</td>\n",
       "      <td>247717</td>\n",
       "      <td>164787</td>\n",
       "      <td>11566615</td>\n",
       "    </tr>\n",
       "  </tbody>\n",
       "</table>\n",
       "</div>"
      ],
      "text/plain": [
       "       handgun  long_gun  multiple  admin  prepawn_handgun  prepawn_long_gun  \\\n",
       "month                                                                          \n",
       "2010   3678001   4842184    180609   6751             3128              5175   \n",
       "2011   4301389   5445966    219618  11912             3161              4489   \n",
       "2012   5682963   6866225    230270   6670             2927              3961   \n",
       "2013   6387502   7128798    241360   5664             2500              3418   \n",
       "2014   6199243   5543371    225475   4258             2225              2822   \n",
       "2015   7333808   5479441    242375   7037             2362              2531   \n",
       "2016   8085498   5988511    257723   3366             2623              2567   \n",
       "2017   7226979   5234757    236167   5643             3233              2906   \n",
       "2018   6576111   4916533    257088  14767             4359              3460   \n",
       "2019   6802167   4744298    256524  24057             4627              4388   \n",
       "2020   7188053   3715173    241609   3429             2832              3015   \n",
       "\n",
       "       redemption_handgun  redemption_long_gun    totals  \n",
       "month                                                     \n",
       "2010               260441               406680   9382969  \n",
       "2011               298167               435954  10720656  \n",
       "2012               350060               473676  13616752  \n",
       "2013               359478               453518  14582238  \n",
       "2014               386936               452908  12817238  \n",
       "2015               395152               415076  13877782  \n",
       "2016               402461               381004  15123753  \n",
       "2017               415493               353393  13478571  \n",
       "2018               416906               321655  12510879  \n",
       "2019               415913               289175  12541149  \n",
       "2020               247717               164787  11566615  "
      ]
     },
     "execution_count": 22,
     "metadata": {},
     "output_type": "execute_result"
    }
   ],
   "source": [
    "# Group by total checks for each year\n",
    "firearm_years = df_firearm.groupby(df_firearm.month.dt.year).sum()\n",
    "firearm_last_years = firearm_years[-11:]\n",
    "firearm_last_years"
   ]
  },
  {
   "cell_type": "code",
   "execution_count": 23,
   "metadata": {},
   "outputs": [],
   "source": [
    "# Drop totals column\n",
    "firearm_last_years = firearm_last_years.drop(['totals'], axis=1)"
   ]
  },
  {
   "cell_type": "markdown",
   "metadata": {},
   "source": [
    "**Let's explore much more about the background check types.**"
   ]
  },
  {
   "cell_type": "code",
   "execution_count": 24,
   "metadata": {},
   "outputs": [
    {
     "data": {
      "text/plain": [
       "<matplotlib.legend.Legend at 0x19c453f1040>"
      ]
     },
     "execution_count": 24,
     "metadata": {},
     "output_type": "execute_result"
    },
    {
     "data": {
      "image/png": "[encoded data removed]",
      "text/plain": [
       "<Figure size 720x360 with 1 Axes>"
      ]
     },
     "metadata": {
      "needs_background": "light"
     },
     "output_type": "display_data"
    }
   ],
   "source": [
    "# Plot Normak checks\n",
    "firearm_last_years.handgun.plot.bar(figsize=(10,5), color='orange', alpha=0.6, label='handgun')\n",
    "firearm_last_years.long_gun.plot.bar(color='grey', alpha=0.5,label='long_gun')\n",
    "firearm_last_years.multiple.plot.bar(color='blue', alpha=0.5,label='both')\n",
    "plt.xlabel('Year')\n",
    "plt.ylabel('Check Counts')\n",
    "plt.title('Handgun vs Long Gun normal checks')\n",
    "plt.legend()"
   ]
  },
  {
   "cell_type": "markdown",
   "metadata": {},
   "source": [
    "It's obvious in the `handgun` **Normal** checks are almost increased since **2010** till **2013**, then started with ups and downs till **2020**."
   ]
  },
  {
   "cell_type": "code",
   "execution_count": 25,
   "metadata": {},
   "outputs": [
    {
     "data": {
      "text/plain": [
       "<matplotlib.legend.Legend at 0x19c453ae9d0>"
      ]
     },
     "execution_count": 25,
     "metadata": {},
     "output_type": "execute_result"
    },
    {
     "data": {
      "image/png": "[encoded data removed]",
      "text/plain": [
       "<Figure size 720x360 with 1 Axes>"
      ]
     },
     "metadata": {
      "needs_background": "light"
     },
     "output_type": "display_data"
    }
   ],
   "source": [
    "# Plot Prepawn checks\n",
    "firearm_last_years.prepawn_handgun.plot.bar(figsize=(10,5),color='orange', alpha=0.6, label='prepawn handgun')\n",
    "firearm_last_years.prepawn_long_gun.plot.bar(alpha=0.5,label='prepawn long_gun')\n",
    "plt.xlabel('Year')\n",
    "plt.ylabel('Check Counts')\n",
    "plt.title('Handgun vs Long Gun prepawn checks')\n",
    "plt.legend()"
   ]
  },
  {
   "cell_type": "markdown",
   "metadata": {},
   "source": [
    "Both **Prepawn** `long_gun` and `handgun` checks have been decreased from **2010** and continued for 5 years, then returned to increase again till the **2020**."
   ]
  },
  {
   "cell_type": "code",
   "execution_count": 26,
   "metadata": {},
   "outputs": [
    {
     "data": {
      "text/plain": [
       "<matplotlib.legend.Legend at 0x19c4694bfa0>"
      ]
     },
     "execution_count": 26,
     "metadata": {},
     "output_type": "execute_result"
    },
    {
     "data": {
      "image/png": "[encoded data removed]",
      "text/plain": [
       "<Figure size 720x360 with 1 Axes>"
      ]
     },
     "metadata": {
      "needs_background": "light"
     },
     "output_type": "display_data"
    }
   ],
   "source": [
    "# Plot Redemption checks\n",
    "firearm_last_years.redemption_handgun.plot.bar(figsize=(10,5), color='orange', alpha=0.6, label='redemption handgun')\n",
    "firearm_last_years.redemption_long_gun.plot.bar( alpha=0.5,label='redemption long_gun')\n",
    "plt.xlabel('Year')\n",
    "plt.ylabel('Check Counts')\n",
    "plt.title('Handgun vs Long Gun redemption checks')\n",
    "plt.legend()"
   ]
  },
  {
   "cell_type": "markdown",
   "metadata": {},
   "source": [
    "The result here for `handgun` **Redemption** checks are increased since **2010** till **2019** unlike the `long_gun`it has been decreased since **2012** till now."
   ]
  },
  {
   "cell_type": "code",
   "execution_count": 27,
   "metadata": {},
   "outputs": [
    {
     "data": {
      "text/plain": [
       "Text(0.5, 1.0, 'Administrative checks')"
      ]
     },
     "execution_count": 27,
     "metadata": {},
     "output_type": "execute_result"
    },
    {
     "data": {
      "image/png": "[encoded data removed]",
      "text/plain": [
       "<Figure size 720x360 with 1 Axes>"
      ]
     },
     "metadata": {
      "needs_background": "light"
     },
     "output_type": "display_data"
    }
   ],
   "source": [
    "firearm_last_years.admin.plot.bar(figsize=(10,5),color='blue', alpha=0.5,label='both')\n",
    "plt.xlabel('Year')\n",
    "plt.ylabel('Check Counts')\n",
    "plt.title('Administrative checks')"
   ]
  },
  {
   "cell_type": "markdown",
   "metadata": {},
   "source": [
    "The **Administrative** checks have been decreased since **2011** and returned with a huge increase in **2019**."
   ]
  },
  {
   "cell_type": "markdown",
   "metadata": {},
   "source": [
    "#### Calculating the percentage for all the check types"
   ]
  },
  {
   "cell_type": "code",
   "execution_count": 28,
   "metadata": {},
   "outputs": [
    {
     "data": {
      "text/plain": [
       "-0.07095258245926597"
      ]
     },
     "execution_count": 28,
     "metadata": {},
     "output_type": "execute_result"
    }
   ],
   "source": [
    "# Calculate the percentage of the normal background checks.\n",
    "normal_checks = firearm_last_years.handgun + firearm_last_years.long_gun + firearm_last_years.multiple\n",
    "normal_percent = (normal_checks.values[-1] - normal_checks.values.mean()) / normal_checks.values.mean()\n",
    "normal_percent"
   ]
  },
  {
   "cell_type": "code",
   "execution_count": 29,
   "metadata": {},
   "outputs": [
    {
     "data": {
      "text/plain": [
       "-0.5968210872864869"
      ]
     },
     "execution_count": 29,
     "metadata": {},
     "output_type": "execute_result"
    }
   ],
   "source": [
    "# Calculate the percentage of the administrative background checks.\n",
    "admin_checks = firearm_last_years.admin.values\n",
    "admin_percent = (admin_checks[-1] - admin_checks.mean()) / admin_checks.mean()\n",
    "admin_percent"
   ]
  },
  {
   "cell_type": "code",
   "execution_count": 30,
   "metadata": {},
   "outputs": [
    {
     "data": {
      "text/plain": [
       "-0.11541899902350466"
      ]
     },
     "execution_count": 30,
     "metadata": {},
     "output_type": "execute_result"
    }
   ],
   "source": [
    "# Calculate the percentage of the prepawn background checks.\n",
    "prepawn_checks = firearm_last_years.prepawn_handgun + firearm_last_years.prepawn_long_gun\n",
    "prepawn_percent = (prepawn_checks.values[-1] - prepawn_checks.values.mean()) / prepawn_checks.values.mean()\n",
    "prepawn_percent"
   ]
  },
  {
   "cell_type": "code",
   "execution_count": 31,
   "metadata": {},
   "outputs": [
    {
     "data": {
      "text/plain": [
       "-0.43957068133958294"
      ]
     },
     "execution_count": 31,
     "metadata": {},
     "output_type": "execute_result"
    }
   ],
   "source": [
    "# Calculate the percentage of the redemption background checks.\n",
    "redem_checks = firearm_last_years.redemption_handgun + firearm_last_years.redemption_long_gun\n",
    "redem_percent = (redem_checks.values[-1] - redem_checks.values.mean()) / redem_checks.values.mean()\n",
    "redem_percent"
   ]
  },
  {
   "cell_type": "markdown",
   "metadata": {},
   "source": [
    "Plotting our calculated data."
   ]
  },
  {
   "cell_type": "code",
   "execution_count": 32,
   "metadata": {},
   "outputs": [
    {
     "data": {
      "text/plain": [
       "Text(0.5, 1.0, 'The percentage decreasing rate for all the check types')"
      ]
     },
     "execution_count": 32,
     "metadata": {},
     "output_type": "execute_result"
    },
    {
     "data": {
      "image/png": "[encoded data removed]",
      "text/plain": [
       "<Figure size 720x360 with 1 Axes>"
      ]
     },
     "metadata": {
      "needs_background": "light"
     },
     "output_type": "display_data"
    }
   ],
   "source": [
    "all_checks = {\n",
    "    'Normal': normal_percent,\n",
    "    'Adminstrative': admin_percent,\n",
    "    'Prepawn': prepawn_percent,\n",
    "    'Redemption': redem_percent\n",
    "    }\n",
    "pd.Series(all_checks).plot.bar(figsize=(10,5), grid=True, width=0.9)\n",
    "plt.ylabel('Percentage')\n",
    "plt.xlabel('Check Type')\n",
    "plt.title('The percentage decreasing rate for all the check types')"
   ]
  },
  {
   "cell_type": "code",
   "execution_count": 33,
   "metadata": {},
   "outputs": [
    {
     "data": {
      "text/plain": [
       "4.4466416564238695"
      ]
     },
     "execution_count": 33,
     "metadata": {},
     "output_type": "execute_result"
    }
   ],
   "source": [
    "(normal_percent - prepawn_percent)*100"
   ]
  },
  {
   "cell_type": "markdown",
   "metadata": {},
   "source": [
    "So, here is the **Administrative** background check is the most decreased check type over the last decade followed by the **Redemption** checks and there's **4.4%** a slight difference between the other two check types."
   ]
  },
  {
   "cell_type": "markdown",
   "metadata": {},
   "source": [
    "<a id=\"q4\"></a>\n",
    "### What is the overall trend of gun purchases?\n",
    "\n",
    "In this question we have to find either **Handgun** or **Long Gun** is the most trend of purchases over the years."
   ]
  },
  {
   "cell_type": "code",
   "execution_count": 34,
   "metadata": {},
   "outputs": [
    {
     "data": {
      "text/html": [
       "<div>\n",
       "<style scoped>\n",
       "    .dataframe tbody tr th:only-of-type {\n",
       "        vertical-align: middle;\n",
       "    }\n",
       "\n",
       "    .dataframe tbody tr th {\n",
       "        vertical-align: top;\n",
       "    }\n",
       "\n",
       "    .dataframe thead th {\n",
       "        text-align: right;\n",
       "    }\n",
       "</style>\n",
       "<table border=\"1\" class=\"dataframe\">\n",
       "  <thead>\n",
       "    <tr style=\"text-align: right;\">\n",
       "      <th></th>\n",
       "      <th>handgun</th>\n",
       "      <th>long_gun</th>\n",
       "      <th>multiple</th>\n",
       "      <th>admin</th>\n",
       "      <th>prepawn_handgun</th>\n",
       "      <th>prepawn_long_gun</th>\n",
       "      <th>redemption_handgun</th>\n",
       "      <th>redemption_long_gun</th>\n",
       "      <th>totals</th>\n",
       "    </tr>\n",
       "    <tr>\n",
       "      <th>month</th>\n",
       "      <th></th>\n",
       "      <th></th>\n",
       "      <th></th>\n",
       "      <th></th>\n",
       "      <th></th>\n",
       "      <th></th>\n",
       "      <th></th>\n",
       "      <th></th>\n",
       "      <th></th>\n",
       "    </tr>\n",
       "  </thead>\n",
       "  <tbody>\n",
       "    <tr>\n",
       "      <th>1998</th>\n",
       "      <td>226738</td>\n",
       "      <td>590642</td>\n",
       "      <td>8720</td>\n",
       "      <td>2273</td>\n",
       "      <td>550</td>\n",
       "      <td>770</td>\n",
       "      <td>48510</td>\n",
       "      <td>63690</td>\n",
       "      <td>941893</td>\n",
       "    </tr>\n",
       "    <tr>\n",
       "      <th>1999</th>\n",
       "      <td>2583911</td>\n",
       "      <td>5272408</td>\n",
       "      <td>103743</td>\n",
       "      <td>148493</td>\n",
       "      <td>3300</td>\n",
       "      <td>4620</td>\n",
       "      <td>291060</td>\n",
       "      <td>382140</td>\n",
       "      <td>8789675</td>\n",
       "    </tr>\n",
       "    <tr>\n",
       "      <th>2000</th>\n",
       "      <td>2191879</td>\n",
       "      <td>4779978</td>\n",
       "      <td>95777</td>\n",
       "      <td>131648</td>\n",
       "      <td>3300</td>\n",
       "      <td>4620</td>\n",
       "      <td>291060</td>\n",
       "      <td>382140</td>\n",
       "      <td>7880402</td>\n",
       "    </tr>\n",
       "    <tr>\n",
       "      <th>2001</th>\n",
       "      <td>2167213</td>\n",
       "      <td>4943375</td>\n",
       "      <td>97132</td>\n",
       "      <td>100126</td>\n",
       "      <td>3754</td>\n",
       "      <td>6731</td>\n",
       "      <td>245294</td>\n",
       "      <td>358927</td>\n",
       "      <td>7922552</td>\n",
       "    </tr>\n",
       "    <tr>\n",
       "      <th>2002</th>\n",
       "      <td>1845112</td>\n",
       "      <td>4409311</td>\n",
       "      <td>93069</td>\n",
       "      <td>76830</td>\n",
       "      <td>5087</td>\n",
       "      <td>11094</td>\n",
       "      <td>171492</td>\n",
       "      <td>392956</td>\n",
       "      <td>7004951</td>\n",
       "    </tr>\n",
       "    <tr>\n",
       "      <th>2003</th>\n",
       "      <td>1857817</td>\n",
       "      <td>4390908</td>\n",
       "      <td>99236</td>\n",
       "      <td>70000</td>\n",
       "      <td>5151</td>\n",
       "      <td>8663</td>\n",
       "      <td>182368</td>\n",
       "      <td>400281</td>\n",
       "      <td>7014424</td>\n",
       "    </tr>\n",
       "    <tr>\n",
       "      <th>2004</th>\n",
       "      <td>1997199</td>\n",
       "      <td>4514698</td>\n",
       "      <td>101985</td>\n",
       "      <td>51613</td>\n",
       "      <td>3953</td>\n",
       "      <td>6473</td>\n",
       "      <td>182980</td>\n",
       "      <td>391585</td>\n",
       "      <td>7250486</td>\n",
       "    </tr>\n",
       "    <tr>\n",
       "      <th>2005</th>\n",
       "      <td>2309130</td>\n",
       "      <td>4655121</td>\n",
       "      <td>109750</td>\n",
       "      <td>13806</td>\n",
       "      <td>3216</td>\n",
       "      <td>5880</td>\n",
       "      <td>188408</td>\n",
       "      <td>382651</td>\n",
       "      <td>7667962</td>\n",
       "    </tr>\n",
       "    <tr>\n",
       "      <th>2006</th>\n",
       "      <td>2441325</td>\n",
       "      <td>4789591</td>\n",
       "      <td>130117</td>\n",
       "      <td>41792</td>\n",
       "      <td>3146</td>\n",
       "      <td>5924</td>\n",
       "      <td>186385</td>\n",
       "      <td>356850</td>\n",
       "      <td>7955130</td>\n",
       "    </tr>\n",
       "    <tr>\n",
       "      <th>2007</th>\n",
       "      <td>2635629</td>\n",
       "      <td>4570697</td>\n",
       "      <td>324401</td>\n",
       "      <td>27318</td>\n",
       "      <td>2901</td>\n",
       "      <td>5504</td>\n",
       "      <td>180790</td>\n",
       "      <td>336230</td>\n",
       "      <td>8083470</td>\n",
       "    </tr>\n",
       "    <tr>\n",
       "      <th>2008</th>\n",
       "      <td>3331199</td>\n",
       "      <td>4907967</td>\n",
       "      <td>187079</td>\n",
       "      <td>13883</td>\n",
       "      <td>2330</td>\n",
       "      <td>4205</td>\n",
       "      <td>199205</td>\n",
       "      <td>348096</td>\n",
       "      <td>8993964</td>\n",
       "    </tr>\n",
       "    <tr>\n",
       "      <th>2009</th>\n",
       "      <td>3689604</td>\n",
       "      <td>4978641</td>\n",
       "      <td>235685</td>\n",
       "      <td>7302</td>\n",
       "      <td>2831</td>\n",
       "      <td>4846</td>\n",
       "      <td>222523</td>\n",
       "      <td>369491</td>\n",
       "      <td>9510923</td>\n",
       "    </tr>\n",
       "    <tr>\n",
       "      <th>2010</th>\n",
       "      <td>3678001</td>\n",
       "      <td>4842184</td>\n",
       "      <td>180609</td>\n",
       "      <td>6751</td>\n",
       "      <td>3128</td>\n",
       "      <td>5175</td>\n",
       "      <td>260441</td>\n",
       "      <td>406680</td>\n",
       "      <td>9382969</td>\n",
       "    </tr>\n",
       "    <tr>\n",
       "      <th>2011</th>\n",
       "      <td>4301389</td>\n",
       "      <td>5445966</td>\n",
       "      <td>219618</td>\n",
       "      <td>11912</td>\n",
       "      <td>3161</td>\n",
       "      <td>4489</td>\n",
       "      <td>298167</td>\n",
       "      <td>435954</td>\n",
       "      <td>10720656</td>\n",
       "    </tr>\n",
       "    <tr>\n",
       "      <th>2012</th>\n",
       "      <td>5682963</td>\n",
       "      <td>6866225</td>\n",
       "      <td>230270</td>\n",
       "      <td>6670</td>\n",
       "      <td>2927</td>\n",
       "      <td>3961</td>\n",
       "      <td>350060</td>\n",
       "      <td>473676</td>\n",
       "      <td>13616752</td>\n",
       "    </tr>\n",
       "    <tr>\n",
       "      <th>2013</th>\n",
       "      <td>6387502</td>\n",
       "      <td>7128798</td>\n",
       "      <td>241360</td>\n",
       "      <td>5664</td>\n",
       "      <td>2500</td>\n",
       "      <td>3418</td>\n",
       "      <td>359478</td>\n",
       "      <td>453518</td>\n",
       "      <td>14582238</td>\n",
       "    </tr>\n",
       "    <tr>\n",
       "      <th>2014</th>\n",
       "      <td>6199243</td>\n",
       "      <td>5543371</td>\n",
       "      <td>225475</td>\n",
       "      <td>4258</td>\n",
       "      <td>2225</td>\n",
       "      <td>2822</td>\n",
       "      <td>386936</td>\n",
       "      <td>452908</td>\n",
       "      <td>12817238</td>\n",
       "    </tr>\n",
       "    <tr>\n",
       "      <th>2015</th>\n",
       "      <td>7333808</td>\n",
       "      <td>5479441</td>\n",
       "      <td>242375</td>\n",
       "      <td>7037</td>\n",
       "      <td>2362</td>\n",
       "      <td>2531</td>\n",
       "      <td>395152</td>\n",
       "      <td>415076</td>\n",
       "      <td>13877782</td>\n",
       "    </tr>\n",
       "    <tr>\n",
       "      <th>2016</th>\n",
       "      <td>8085498</td>\n",
       "      <td>5988511</td>\n",
       "      <td>257723</td>\n",
       "      <td>3366</td>\n",
       "      <td>2623</td>\n",
       "      <td>2567</td>\n",
       "      <td>402461</td>\n",
       "      <td>381004</td>\n",
       "      <td>15123753</td>\n",
       "    </tr>\n",
       "    <tr>\n",
       "      <th>2017</th>\n",
       "      <td>7226979</td>\n",
       "      <td>5234757</td>\n",
       "      <td>236167</td>\n",
       "      <td>5643</td>\n",
       "      <td>3233</td>\n",
       "      <td>2906</td>\n",
       "      <td>415493</td>\n",
       "      <td>353393</td>\n",
       "      <td>13478571</td>\n",
       "    </tr>\n",
       "    <tr>\n",
       "      <th>2018</th>\n",
       "      <td>6576111</td>\n",
       "      <td>4916533</td>\n",
       "      <td>257088</td>\n",
       "      <td>14767</td>\n",
       "      <td>4359</td>\n",
       "      <td>3460</td>\n",
       "      <td>416906</td>\n",
       "      <td>321655</td>\n",
       "      <td>12510879</td>\n",
       "    </tr>\n",
       "    <tr>\n",
       "      <th>2019</th>\n",
       "      <td>6802167</td>\n",
       "      <td>4744298</td>\n",
       "      <td>256524</td>\n",
       "      <td>24057</td>\n",
       "      <td>4627</td>\n",
       "      <td>4388</td>\n",
       "      <td>415913</td>\n",
       "      <td>289175</td>\n",
       "      <td>12541149</td>\n",
       "    </tr>\n",
       "    <tr>\n",
       "      <th>2020</th>\n",
       "      <td>7188053</td>\n",
       "      <td>3715173</td>\n",
       "      <td>241609</td>\n",
       "      <td>3429</td>\n",
       "      <td>2832</td>\n",
       "      <td>3015</td>\n",
       "      <td>247717</td>\n",
       "      <td>164787</td>\n",
       "      <td>11566615</td>\n",
       "    </tr>\n",
       "  </tbody>\n",
       "</table>\n",
       "</div>"
      ],
      "text/plain": [
       "       handgun  long_gun  multiple   admin  prepawn_handgun  prepawn_long_gun  \\\n",
       "month                                                                           \n",
       "1998    226738    590642      8720    2273              550               770   \n",
       "1999   2583911   5272408    103743  148493             3300              4620   \n",
       "2000   2191879   4779978     95777  131648             3300              4620   \n",
       "2001   2167213   4943375     97132  100126             3754              6731   \n",
       "2002   1845112   4409311     93069   76830             5087             11094   \n",
       "2003   1857817   4390908     99236   70000             5151              8663   \n",
       "2004   1997199   4514698    101985   51613             3953              6473   \n",
       "2005   2309130   4655121    109750   13806             3216              5880   \n",
       "2006   2441325   4789591    130117   41792             3146              5924   \n",
       "2007   2635629   4570697    324401   27318             2901              5504   \n",
       "2008   3331199   4907967    187079   13883             2330              4205   \n",
       "2009   3689604   4978641    235685    7302             2831              4846   \n",
       "2010   3678001   4842184    180609    6751             3128              5175   \n",
       "2011   4301389   5445966    219618   11912             3161              4489   \n",
       "2012   5682963   6866225    230270    6670             2927              3961   \n",
       "2013   6387502   7128798    241360    5664             2500              3418   \n",
       "2014   6199243   5543371    225475    4258             2225              2822   \n",
       "2015   7333808   5479441    242375    7037             2362              2531   \n",
       "2016   8085498   5988511    257723    3366             2623              2567   \n",
       "2017   7226979   5234757    236167    5643             3233              2906   \n",
       "2018   6576111   4916533    257088   14767             4359              3460   \n",
       "2019   6802167   4744298    256524   24057             4627              4388   \n",
       "2020   7188053   3715173    241609    3429             2832              3015   \n",
       "\n",
       "       redemption_handgun  redemption_long_gun    totals  \n",
       "month                                                     \n",
       "1998                48510                63690    941893  \n",
       "1999               291060               382140   8789675  \n",
       "2000               291060               382140   7880402  \n",
       "2001               245294               358927   7922552  \n",
       "2002               171492               392956   7004951  \n",
       "2003               182368               400281   7014424  \n",
       "2004               182980               391585   7250486  \n",
       "2005               188408               382651   7667962  \n",
       "2006               186385               356850   7955130  \n",
       "2007               180790               336230   8083470  \n",
       "2008               199205               348096   8993964  \n",
       "2009               222523               369491   9510923  \n",
       "2010               260441               406680   9382969  \n",
       "2011               298167               435954  10720656  \n",
       "2012               350060               473676  13616752  \n",
       "2013               359478               453518  14582238  \n",
       "2014               386936               452908  12817238  \n",
       "2015               395152               415076  13877782  \n",
       "2016               402461               381004  15123753  \n",
       "2017               415493               353393  13478571  \n",
       "2018               416906               321655  12510879  \n",
       "2019               415913               289175  12541149  \n",
       "2020               247717               164787  11566615  "
      ]
     },
     "execution_count": 34,
     "metadata": {},
     "output_type": "execute_result"
    }
   ],
   "source": [
    "# Get all the gun registration checks\n",
    "all_gun_checks = firearm_years\n",
    "all_handgun = all_gun_checks.handgun + all_gun_checks.prepawn_handgun + all_gun_checks.redemption_handgun\n",
    "all_long_gun = all_gun_checks.long_gun + all_gun_checks.prepawn_long_gun + all_gun_checks.redemption_long_gun\n",
    "all_gun_checks"
   ]
  },
  {
   "cell_type": "code",
   "execution_count": 35,
   "metadata": {},
   "outputs": [
    {
     "data": {
      "text/plain": [
       "Text(0, 0.5, 'Purchases Count')"
      ]
     },
     "execution_count": 35,
     "metadata": {},
     "output_type": "execute_result"
    },
    {
     "data": {
      "image/png": "[encoded data removed]",
      "text/plain": [
       "<Figure size 432x288 with 1 Axes>"
      ]
     },
     "metadata": {
      "needs_background": "light"
     },
     "output_type": "display_data"
    }
   ],
   "source": [
    "# Calculate all the handgun \n",
    "handgun_total = all_handgun.sum()\n",
    "long_gun_total = all_long_gun.sum()\n",
    "plt.bar(['Hand Gun', 'Long Gun'],[handgun_total, long_gun_total], color=['orange','blue'], alpha=0.6)\n",
    "plt.title('Handgun vs Long Gun purchases')\n",
    "plt.ylabel('Purchases Count')"
   ]
  },
  {
   "cell_type": "code",
   "execution_count": 36,
   "metadata": {},
   "outputs": [
    {
     "data": {
      "text/plain": [
       "0.08016199052075393"
      ]
     },
     "execution_count": 36,
     "metadata": {},
     "output_type": "execute_result"
    }
   ],
   "source": [
    "total_guns =  handgun_total + long_gun_total\n",
    "(long_gun_total - handgun_total)/total_guns"
   ]
  },
  {
   "cell_type": "code",
   "execution_count": 37,
   "metadata": {},
   "outputs": [
    {
     "data": {
      "text/plain": [
       "([<matplotlib.patches.Wedge at 0x19c46cdf1c0>,\n",
       "  <matplotlib.patches.Wedge at 0x19c46cdf670>],\n",
       " [Text(0.22103078692613826, 1.7460656892656738, 'Hand Gun'),\n",
       "  Text(-0.22103095040460594, -1.7460656685712703, 'Long Gun')],\n",
       " [Text(0.12056224741425721, 0.9523994668721856, '45.99%'),\n",
       "  Text(-0.12056233658433049, -0.9523994555843291, '54.01%')])"
      ]
     },
     "execution_count": 37,
     "metadata": {},
     "output_type": "execute_result"
    },
    {
     "data": {
      "image/png": "[encoded data removed]",
      "text/plain": [
       "<Figure size 432x288 with 1 Axes>"
      ]
     },
     "metadata": {},
     "output_type": "display_data"
    }
   ],
   "source": [
    "plt.pie([handgun_total, long_gun_total], labels=['Hand Gun', 'Long Gun'],autopct='%1.2f%%', radius=1.6)"
   ]
  },
  {
   "cell_type": "markdown",
   "metadata": {},
   "source": [
    "There's **8%** not a huge difference between **Handgun** and **Long Gun** registrations, but most people tend to purchase the **Long Gun**."
   ]
  },
  {
   "cell_type": "markdown",
   "metadata": {},
   "source": [
    "<a id='conclusions'></a>\n",
    "## Conclusions\n",
    "\n",
    "In this report we've disscussed and investigated the **NICS Firearm Background Data** starting with the gathering, assessing, and cleaning the dataset. Also we've explored the data analytically by addressnig some questions and drawing somw conclusions about the dataset.\n",
    "\n",
    "The outcome of the analysis:\n",
    "1. **Texas** has the highest growth in all the gun purchases.\n",
    "2. The **Administrative** gun purchases has been decreased since 2010.\n",
    "3. People tend to purchase the **Long Gun** more than **Handgun**.\n",
    "\n",
    "There're some limititions we've faced during our analysis such as:\n",
    "- While cleaning the data, some columns contains a lot of null values to deal with.\n",
    "- The data has lost a lot of variables that might affect the analysis process."
   ]
  }
 ],
 "metadata": {
  "kernelspec": {
   "display_name": "Python 3",
   "language": "python",
   "name": "python3"
  },
  "language_info": {
   "codemirror_mode": {
    "name": "ipython",
    "version": 3
   },
   "file_extension": ".py",
   "mimetype": "text/x-python",
   "name": "python",
   "nbconvert_exporter": "python",
   "pygments_lexer": "ipython3",
   "version": "3.8.3"
  }
 },
 "nbformat": 4,
 "nbformat_minor": 2
}
